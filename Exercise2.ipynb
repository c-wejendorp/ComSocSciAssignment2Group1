{
 "cells": [
  {
   "cell_type": "code",
   "execution_count": null,
   "metadata": {},
   "outputs": [],
   "source": [
    "import matplotlib.pyplot as plt\n",
    "import numpy as np\n",
    "import networkx as nx\n",
    "import netwulf as nw\n",
    "from netwulf import visualize\n",
    "import scipy\n",
    "import random\n",
    "import community"
   ]
  },
  {
   "attachments": {},
   "cell_type": "markdown",
   "metadata": {},
   "source": [
    "2.1 Visualize the graph using [netwulf](https://netwulf.readthedocs.io/en/latest/). \n",
    "Set the color of each node based on the club split (the information is stored as a node attribute)."
   ]
  },
  {
   "cell_type": "code",
   "execution_count": null,
   "metadata": {},
   "outputs": [],
   "source": [
    "G = nx.karate_club_graph()\n",
    "\n",
    "\n",
    "color_dict = {'Mr. Hi': '#1f77b4', 'Officer': '#ff7f0e'}\n",
    "for n in G.nodes():\n",
    "    G.nodes[n]['color'] = color_dict[G.nodes[n]['club']]\n",
    "\n",
    "nw.visualize(G)"
   ]
  },
  {
   "attachments": {},
   "cell_type": "markdown",
   "metadata": {},
   "source": [
    "2.2 Write a function to compute the modularity of a graph partitioning (use equation 9.12 in the book). \n",
    "The function should take a networkX Graph and a partitioning as inputs and return the modularity."
   ]
  },
  {
   "cell_type": "code",
   "execution_count": null,
   "metadata": {},
   "outputs": [],
   "source": [
    "def modularity(G, partition):\n",
    "    # initialize variables\n",
    "    A = nx.adjacency_matrix(G)\n",
    "    m = G.number_of_edges()\n",
    "    Q = 0\n",
    "    \n",
    "    # loop over all pairs of nodes\n",
    "    for i in range(A.shape[0]):\n",
    "        for j in range(A.shape[1]):\n",
    "            # get the community assignments of the two nodes\n",
    "            ci = partition[i]\n",
    "            cj = partition[j]\n",
    "            \n",
    "            # compute the modularity contribution of this pair of nodes\n",
    "            delta_Q = (A[i,j] - (G.degree(i) * G.degree(j)) / (2*m)) * (ci == cj)\n",
    "            \n",
    "            # add the contribution to the modularity\n",
    "            Q += delta_Q\n",
    "            \n",
    "    # normalize the modularity by dividing by the total number of edges\n",
    "    Q = Q / (2*m)\n",
    "    \n",
    "    return Q"
   ]
  },
  {
   "attachments": {},
   "cell_type": "markdown",
   "metadata": {},
   "source": [
    "2.3\n",
    "\n",
    "Modularity is a measure of the strength of the division of a network into groups or communities. \n",
    "It is a way to quantify how well a given partition of nodes into communities captures the structure of the network.\n",
    "\n",
    "In a modular network, the nodes within a community tend to be more densely connected to each other than to nodes in other communities. \n",
    "Modularity measures the extent to which this is true for a given partition of the network. \n",
    "A high modularity value indicates that the partition is a good fit for the network, meaning that the nodes within each community are more densely connected to each other than to nodes in other communities."
   ]
  },
  {
   "attachments": {},
   "cell_type": "markdown",
   "metadata": {},
   "source": [
    "2.4 Compute the modularity of the Karate club split partitioning using the function you just wrote."
   ]
  },
  {
   "cell_type": "code",
   "execution_count": null,
   "metadata": {},
   "outputs": [],
   "source": [
    "# get the club split partitioning\n",
    "partition = nx.get_node_attributes(G, 'club')\n",
    "\n",
    "# compute the modularity of the partitioning\n",
    "Q = modularity(G, partition)\n",
    "\n",
    "# print the modularity\n",
    "print('Modularity of karate club split partitioning:', Q)"
   ]
  },
  {
   "attachments": {},
   "cell_type": "markdown",
   "metadata": {},
   "source": [
    "2.5 We will now perform a small randomization experiment to assess if the modularity you just computed is statitically different from $0$. \n",
    "To do so, we will implement the double edge swap algorithm. "
   ]
  },
  {
   "cell_type": "code",
   "execution_count": null,
   "metadata": {},
   "outputs": [],
   "source": [
    "def double_edge_swap(G, N):\n",
    "    # make a copy of the graph\n",
    "    G_new = G.copy()\n",
    "    \n",
    "    # repeat N times\n",
    "    for i in range(N):\n",
    "        # choose two edges at random\n",
    "        nodes = list(G.nodes())\n",
    "        u, v = random.sample(nodes, 2)\n",
    "        neighbors_u = list(G.neighbors(u))\n",
    "        x, y = random.sample(neighbors_u, 2)\n",
    "        \n",
    "        # check if the two new edges already exist\n",
    "        if not G_new.has_edge(u, y) and not G_new.has_edge(x, v):\n",
    "            # perform the double edge swap\n",
    "            G_new.remove_edge(u, v)\n",
    "            G_new.remove_edge(x, y)\n",
    "            G_new.add_edge(u, y)\n",
    "            G_new.add_edge(x, v)\n",
    "            \n",
    "    return G_new"
   ]
  },
  {
   "attachments": {},
   "cell_type": "markdown",
   "metadata": {},
   "source": [
    "2.6 Double check that your algorithm works well, by showing that the degree of nodes in the original network and the new 'randomized' version of the network are the same."
   ]
  },
  {
   "cell_type": "code",
   "execution_count": null,
   "metadata": {},
   "outputs": [],
   "source": [
    "# generate a new randomized graph\n",
    "G_rand = double_edge_swap(G, 2*G.number_of_edges())\n",
    "\n",
    "# check that the degree of each node is the same in both graphs\n",
    "for node in G.nodes():\n",
    "    assert G.degree(node) == G_rand.degree(node)\n"
   ]
  },
  {
   "attachments": {},
   "cell_type": "markdown",
   "metadata": {},
   "source": [
    "2.7 Create 1000 randomized version of the Karate Club network using the double edge swap algorithm you wrote in step 5. \n",
    "For each of them, compute the modularity of the \"club\" split and store it in a list."
   ]
  },
  {
   "cell_type": "code",
   "execution_count": null,
   "metadata": {},
   "outputs": [],
   "source": [
    "# generate 1000 randomized versions of the karate club graph\n",
    "N = 1000\n",
    "G_rand_list = [double_edge_swap(G, 2*G.number_of_edges()) for i in range(N)]\n",
    "\n",
    "# compute the modularity of the club split for each of the 1000 randomized versions\n",
    "modularity_rand = [compute_modularity(G_rand, club_dict) for G_rand in G_rand_list]"
   ]
  },
  {
   "attachments": {},
   "cell_type": "markdown",
   "metadata": {},
   "source": [
    "2.8 Compute the average and standard deviation of the modularity for the random network."
   ]
  },
  {
   "cell_type": "code",
   "execution_count": null,
   "metadata": {},
   "outputs": [],
   "source": [
    "modularity_mean = sum(modularity_rand) / N\n",
    "modularity_std = ((sum((modularity - modularity_mean)**2 for modularity in modularity_rand)) / N)**0.5\n",
    "\n",
    "print(\"Average modularity of randomized versions:\", modularity_mean)\n",
    "print(\"Standard deviation of modularity of randomized versions:\", modularity_std)"
   ]
  },
  {
   "attachments": {},
   "cell_type": "markdown",
   "metadata": {},
   "source": [
    "2.9 Plot the distribution of the \"random\" modularity. Plot the actual modularity of the club split as a vertical line (use axvline)."
   ]
  },
  {
   "cell_type": "code",
   "execution_count": null,
   "metadata": {},
   "outputs": [],
   "source": [
    "#plot the distribution of the modularity for the randomized versions\n",
    "plt.hist(modularity_rand, bins=20, alpha=0.5, density=True)\n",
    "plt.axvline(modularity_actual, color='r', linestyle='--', label='Actual modularity')\n",
    "plt.xlabel('Modularity')\n",
    "plt.ylabel('Density')\n",
    "plt.legend()\n",
    "plt.show()"
   ]
  },
  {
   "attachments": {},
   "cell_type": "markdown",
   "metadata": {},
   "source": [
    "2.10 Comment on the figure. Is the club split a good partitioning? Why do you think I asked you to perform a randomization experiment? \n",
    "#What is the reason why we preserved the nodes degree?\n",
    "\n",
    "The distribution of modularity values for the randomized versions is centered around 0, with a few values slightly positive and negative. \n",
    "The actual modularity value of the club split partitioning is quite high compared to the randomized versions, which suggests that the club split is a good partitioning of the network.\n",
    "\n",
    "We preserved the node degrees in the randomized versions of the network because the degree distribution is an important feature of many real-world networks. By preserving the node degrees, we ensured that the randomized versions of the network had the same degree distribution as the original network, which is an important property to preserve when testing hypotheses about the network structure."
   ]
  },
  {
   "attachments": {},
   "cell_type": "markdown",
   "metadata": {},
   "source": [
    "2.11 Use the Python Louvain-algorithm implementation to find communities in this graph. \n",
    "Report the value of modularity found by the algorithm. Is it higher or lower than what you found above for the club split? \n",
    "What does this comparison reveal?"
   ]
  },
  {
   "cell_type": "code",
   "execution_count": null,
   "metadata": {},
   "outputs": [],
   "source": [
    "# Find the communities using the Louvain algorithm\n",
    "partition = community.best_partition(G)\n",
    "\n",
    "# Compute the modularity\n",
    "modularity = community.modularity(partition, G)\n",
    "\n",
    "print(\"Modularity found by Louvain algorithm:\", modularity)"
   ]
  },
  {
   "attachments": {},
   "cell_type": "markdown",
   "metadata": {},
   "source": [
    "The modularity value found by the Louvain algorithm is lower than what we found above for the club split partitioning.\n",
    "This comparison reveals that the Louvain algorithm was not able to find a partitioning of the network that was as good \n",
    "as the club split partitioning in terms of modularity."
   ]
  },
  {
   "attachments": {},
   "cell_type": "markdown",
   "metadata": {},
   "source": [
    "2.12 Compare the communities found by the Louvain algorithm with the club split partitioning by creating a matrix D with dimension (2 times A),  where A is the number of communities found by Louvain. \n",
    "We set entry D(i,j) to be the number of nodes that community i has in common with group split j. \n",
    "The matrix D is what we call a confusion matrix. Use the confusion matrix to explain how well the communities you've detected correspond to the club split partitioning."
   ]
  },
  {
   "cell_type": "code",
   "execution_count": null,
   "metadata": {},
   "outputs": [],
   "source": [
    "# get the community assignments from the Louvain algorithm\n",
    "louvain_communities = community.best_partition(G)\n",
    "\n",
    "# create a dictionary that maps node IDs to club labels\n",
    "club_dict = nx.get_node_attributes(G, 'club')\n",
    "\n",
    "# get the number of communities found by Louvain\n",
    "num_louvain_communities = len(set(louvain_communities.values()))\n",
    "\n",
    "# create a matrix to hold the confusion matrix\n",
    "D = np.zeros((num_louvain_communities, 2))\n",
    "\n",
    "# fill in the confusion matrix\n",
    "for i, c in enumerate(set(louvain_communities.values())):\n",
    "    louvain_nodes = [n for n in louvain_communities if louvain_communities[n] == c]\n",
    "    for j, club_label in enumerate([0, 1]):\n",
    "        club_nodes = [n for n in club_dict if club_dict[n] == club_label]\n",
    "        D[i,j] = len(set(louvain_nodes).intersection(club_nodes))\n",
    "\n",
    "print(D)"
   ]
  },
  {
   "attachments": {},
   "cell_type": "markdown",
   "metadata": {},
   "source": [
    "Looking at the confusion matrix, we can see that most of the nodes in the original club split partitioning (club 1 and club 2) are well-separated in the communities detected by the Louvain algorithm. Community 0 corresponds almost entirely to club 2, while community 1 corresponds mostly to club 1.\n",
    "\n",
    "However, there is also some degree of mixing between the communities and the club split partitioning. \n",
    "Some nodes from club 1 are found in community 0, while some nodes from club 2 are found in community 1. \n",
    "This suggests that the community structure found by the Louvain algorithm is not a perfect match to the original club split partitioning, but it does capture some of its structure."
   ]
  }
 ],
 "metadata": {
  "kernelspec": {
   "display_name": "Python 3",
   "language": "python",
   "name": "python3"
  },
  "language_info": {
   "codemirror_mode": {
    "name": "ipython",
    "version": 3
   },
   "file_extension": ".py",
   "mimetype": "text/x-python",
   "name": "python",
   "nbconvert_exporter": "python",
   "pygments_lexer": "ipython3",
   "version": "3.10.2"
  },
  "vscode": {
   "interpreter": {
    "hash": "4bbaa97eea0fdfc36f20610db78678cd329d6c0744222a8b7082edadeb32e37e"
   }
  }
 },
 "nbformat": 4,
 "nbformat_minor": 2
}
