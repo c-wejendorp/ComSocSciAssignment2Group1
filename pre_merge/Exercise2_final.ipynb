{
 "cells": [
  {
   "cell_type": "markdown",
   "metadata": {},
   "source": [
    "Exercise 2: Zachary's karate club"
   ]
  },
  {
   "cell_type": "code",
   "execution_count": 1,
   "metadata": {},
   "outputs": [],
   "source": [
    "import matplotlib.pyplot as plt\n",
    "import numpy as np\n",
    "import networkx as nx\n",
    "import netwulf as nw\n",
    "from netwulf import visualize\n",
    "import scipy\n",
    "import copy\n",
    "import random\n",
    "import community"
   ]
  },
  {
   "cell_type": "markdown",
   "metadata": {},
   "source": [
    "2.1 Visualize the graph using [netwulf](https://netwulf.readthedocs.io/en/latest/). \n",
    "Set the color of each node based on the club split (the information is stored as a node attribute)."
   ]
  },
  {
   "cell_type": "code",
   "execution_count": 2,
   "metadata": {},
   "outputs": [
    {
     "data": {
      "text/plain": [
       "({'xlim': [0, 791],\n",
       "  'ylim': [0, 791],\n",
       "  'linkColor': '#7c7c7c',\n",
       "  'linkAlpha': 0.5,\n",
       "  'nodeStrokeColor': '#555555',\n",
       "  'nodeStrokeWidth': 1,\n",
       "  'links': [{'source': 0,\n",
       "    'target': 1,\n",
       "    'width': 1.5118578920369088,\n",
       "    'weight': 4},\n",
       "   {'source': 0, 'target': 2, 'width': 1.6903085094570331, 'weight': 5},\n",
       "   {'source': 0, 'target': 3, 'width': 1.3093073414159542, 'weight': 3},\n",
       "   {'source': 0, 'target': 4, 'width': 1.3093073414159542, 'weight': 3},\n",
       "   {'source': 0, 'target': 5, 'width': 1.3093073414159542, 'weight': 3},\n",
       "   {'source': 0, 'target': 6, 'width': 1.3093073414159542, 'weight': 3},\n",
       "   {'source': 0, 'target': 7, 'width': 1.0690449676496976, 'weight': 2},\n",
       "   {'source': 0, 'target': 8, 'width': 1.0690449676496976, 'weight': 2},\n",
       "   {'source': 0, 'target': 10, 'width': 1.0690449676496976, 'weight': 2},\n",
       "   {'source': 0, 'target': 11, 'width': 1.3093073414159542, 'weight': 3},\n",
       "   {'source': 0, 'target': 12, 'width': 0.7559289460184544, 'weight': 1},\n",
       "   {'source': 0, 'target': 13, 'width': 1.3093073414159542, 'weight': 3},\n",
       "   {'source': 0, 'target': 17, 'width': 1.0690449676496976, 'weight': 2},\n",
       "   {'source': 0, 'target': 19, 'width': 1.0690449676496976, 'weight': 2},\n",
       "   {'source': 0, 'target': 21, 'width': 1.0690449676496976, 'weight': 2},\n",
       "   {'source': 0, 'target': 31, 'width': 1.0690449676496976, 'weight': 2},\n",
       "   {'source': 1, 'target': 2, 'width': 1.8516401995451026, 'weight': 6},\n",
       "   {'source': 1, 'target': 3, 'width': 1.3093073414159542, 'weight': 3},\n",
       "   {'source': 1, 'target': 7, 'width': 1.5118578920369088, 'weight': 4},\n",
       "   {'source': 1, 'target': 13, 'width': 1.6903085094570331, 'weight': 5},\n",
       "   {'source': 1, 'target': 17, 'width': 0.7559289460184544, 'weight': 1},\n",
       "   {'source': 1, 'target': 19, 'width': 1.0690449676496976, 'weight': 2},\n",
       "   {'source': 1, 'target': 21, 'width': 1.0690449676496976, 'weight': 2},\n",
       "   {'source': 1, 'target': 30, 'width': 1.0690449676496976, 'weight': 2},\n",
       "   {'source': 2, 'target': 3, 'width': 1.3093073414159542, 'weight': 3},\n",
       "   {'source': 2, 'target': 7, 'width': 1.5118578920369088, 'weight': 4},\n",
       "   {'source': 2, 'target': 8, 'width': 1.6903085094570331, 'weight': 5},\n",
       "   {'source': 2, 'target': 9, 'width': 0.7559289460184544, 'weight': 1},\n",
       "   {'source': 2, 'target': 13, 'width': 1.3093073414159542, 'weight': 3},\n",
       "   {'source': 2, 'target': 27, 'width': 1.0690449676496976, 'weight': 2},\n",
       "   {'source': 2, 'target': 28, 'width': 1.0690449676496976, 'weight': 2},\n",
       "   {'source': 2, 'target': 32, 'width': 1.0690449676496976, 'weight': 2},\n",
       "   {'source': 3, 'target': 7, 'width': 1.3093073414159542, 'weight': 3},\n",
       "   {'source': 3, 'target': 12, 'width': 1.3093073414159542, 'weight': 3},\n",
       "   {'source': 3, 'target': 13, 'width': 1.3093073414159542, 'weight': 3},\n",
       "   {'source': 4, 'target': 6, 'width': 1.0690449676496976, 'weight': 2},\n",
       "   {'source': 4, 'target': 10, 'width': 1.3093073414159542, 'weight': 3},\n",
       "   {'source': 5, 'target': 6, 'width': 1.6903085094570331, 'weight': 5},\n",
       "   {'source': 5, 'target': 10, 'width': 1.3093073414159542, 'weight': 3},\n",
       "   {'source': 5, 'target': 16, 'width': 1.3093073414159542, 'weight': 3},\n",
       "   {'source': 6, 'target': 16, 'width': 1.3093073414159542, 'weight': 3},\n",
       "   {'source': 8, 'target': 30, 'width': 1.3093073414159542, 'weight': 3},\n",
       "   {'source': 8, 'target': 32, 'width': 1.3093073414159542, 'weight': 3},\n",
       "   {'source': 8, 'target': 33, 'width': 1.5118578920369088, 'weight': 4},\n",
       "   {'source': 9, 'target': 33, 'width': 1.0690449676496976, 'weight': 2},\n",
       "   {'source': 13, 'target': 33, 'width': 1.3093073414159542, 'weight': 3},\n",
       "   {'source': 14, 'target': 32, 'width': 1.3093073414159542, 'weight': 3},\n",
       "   {'source': 14, 'target': 33, 'width': 1.0690449676496976, 'weight': 2},\n",
       "   {'source': 15, 'target': 32, 'width': 1.3093073414159542, 'weight': 3},\n",
       "   {'source': 15, 'target': 33, 'width': 1.5118578920369088, 'weight': 4},\n",
       "   {'source': 18, 'target': 32, 'width': 0.7559289460184544, 'weight': 1},\n",
       "   {'source': 18, 'target': 33, 'width': 1.0690449676496976, 'weight': 2},\n",
       "   {'source': 19, 'target': 33, 'width': 0.7559289460184544, 'weight': 1},\n",
       "   {'source': 20, 'target': 32, 'width': 1.3093073414159542, 'weight': 3},\n",
       "   {'source': 20, 'target': 33, 'width': 0.7559289460184544, 'weight': 1},\n",
       "   {'source': 22, 'target': 32, 'width': 1.0690449676496976, 'weight': 2},\n",
       "   {'source': 22, 'target': 33, 'width': 1.3093073414159542, 'weight': 3},\n",
       "   {'source': 23, 'target': 25, 'width': 1.6903085094570331, 'weight': 5},\n",
       "   {'source': 23, 'target': 27, 'width': 1.5118578920369088, 'weight': 4},\n",
       "   {'source': 23, 'target': 29, 'width': 1.3093073414159542, 'weight': 3},\n",
       "   {'source': 23, 'target': 32, 'width': 1.6903085094570331, 'weight': 5},\n",
       "   {'source': 23, 'target': 33, 'width': 1.5118578920369088, 'weight': 4},\n",
       "   {'source': 24, 'target': 25, 'width': 1.0690449676496976, 'weight': 2},\n",
       "   {'source': 24, 'target': 27, 'width': 1.3093073414159542, 'weight': 3},\n",
       "   {'source': 24, 'target': 31, 'width': 1.0690449676496976, 'weight': 2},\n",
       "   {'source': 25, 'target': 31, 'width': 2, 'weight': 7},\n",
       "   {'source': 26, 'target': 29, 'width': 1.5118578920369088, 'weight': 4},\n",
       "   {'source': 26, 'target': 33, 'width': 1.0690449676496976, 'weight': 2},\n",
       "   {'source': 27, 'target': 33, 'width': 1.5118578920369088, 'weight': 4},\n",
       "   {'source': 28, 'target': 31, 'width': 1.0690449676496976, 'weight': 2},\n",
       "   {'source': 28, 'target': 33, 'width': 1.0690449676496976, 'weight': 2},\n",
       "   {'source': 29, 'target': 32, 'width': 1.5118578920369088, 'weight': 4},\n",
       "   {'source': 29, 'target': 33, 'width': 1.0690449676496976, 'weight': 2},\n",
       "   {'source': 30, 'target': 32, 'width': 1.3093073414159542, 'weight': 3},\n",
       "   {'source': 30, 'target': 33, 'width': 1.3093073414159542, 'weight': 3},\n",
       "   {'source': 31, 'target': 32, 'width': 1.5118578920369088, 'weight': 4},\n",
       "   {'source': 31, 'target': 33, 'width': 1.5118578920369088, 'weight': 4},\n",
       "   {'source': 32, 'target': 33, 'width': 1.6903085094570331, 'weight': 5}],\n",
       "  'nodes': [{'id': 0,\n",
       "    'x': 417.78978378070843,\n",
       "    'y': 433.435526070793,\n",
       "    'x_canvas': 417.78978378070843,\n",
       "    'y_canvas': 433.435526070793,\n",
       "    'radius': 5,\n",
       "    'color': '#1f77b4'},\n",
       "   {'id': 1,\n",
       "    'x': 363.6179717825409,\n",
       "    'y': 446.20957314499736,\n",
       "    'x_canvas': 363.6179717825409,\n",
       "    'y_canvas': 446.20957314499736,\n",
       "    'radius': 5,\n",
       "    'color': '#1f77b4'},\n",
       "   {'id': 2,\n",
       "    'x': 402.6459198258685,\n",
       "    'y': 402.85334660936184,\n",
       "    'x_canvas': 402.6459198258685,\n",
       "    'y_canvas': 402.8533466093618,\n",
       "    'radius': 5,\n",
       "    'color': '#1f77b4'},\n",
       "   {'id': 3,\n",
       "    'x': 392.353696805947,\n",
       "    'y': 466.24483404664596,\n",
       "    'x_canvas': 392.353696805947,\n",
       "    'y_canvas': 466.244834046646,\n",
       "    'radius': 5,\n",
       "    'color': '#1f77b4'},\n",
       "   {'id': 4,\n",
       "    'x': 446.68808228680507,\n",
       "    'y': 441.32441781067126,\n",
       "    'x_canvas': 446.68808228680507,\n",
       "    'y_canvas': 441.32441781067126,\n",
       "    'radius': 5,\n",
       "    'color': '#1f77b4'},\n",
       "   {'id': 5,\n",
       "    'x': 467.8168253042875,\n",
       "    'y': 426.3236912796139,\n",
       "    'x_canvas': 467.8168253042874,\n",
       "    'y_canvas': 426.32369127961397,\n",
       "    'radius': 5,\n",
       "    'color': '#1f77b4'},\n",
       "   {'id': 6,\n",
       "    'x': 461.81290741775956,\n",
       "    'y': 451.8150946420853,\n",
       "    'x_canvas': 461.8129074177595,\n",
       "    'y_canvas': 451.81509464208534,\n",
       "    'radius': 5,\n",
       "    'color': '#1f77b4'},\n",
       "   {'id': 7,\n",
       "    'x': 391.5268546382726,\n",
       "    'y': 439.40072588298136,\n",
       "    'x_canvas': 391.5268546382726,\n",
       "    'y_canvas': 439.40072588298136,\n",
       "    'radius': 5,\n",
       "    'color': '#1f77b4'},\n",
       "   {'id': 8,\n",
       "    'x': 376.82562517345696,\n",
       "    'y': 397.8605651712026,\n",
       "    'x_canvas': 376.82562517345696,\n",
       "    'y_canvas': 397.86056517120255,\n",
       "    'radius': 5,\n",
       "    'color': '#1f77b4'},\n",
       "   {'id': 9,\n",
       "    'x': 393.39412965555465,\n",
       "    'y': 379.6919356200751,\n",
       "    'x_canvas': 393.39412965555465,\n",
       "    'y_canvas': 379.6919356200751,\n",
       "    'radius': 5,\n",
       "    'color': '#ff7f0e'},\n",
       "   {'id': 10,\n",
       "    'x': 452.4865519640218,\n",
       "    'y': 414.6753912253331,\n",
       "    'x_canvas': 452.4865519640218,\n",
       "    'y_canvas': 414.6753912253331,\n",
       "    'radius': 5,\n",
       "    'color': '#1f77b4'},\n",
       "   {'id': 11,\n",
       "    'x': 434.21413857604466,\n",
       "    'y': 422.20734999146913,\n",
       "    'x_canvas': 434.21413857604466,\n",
       "    'y_canvas': 422.2073499914692,\n",
       "    'radius': 5,\n",
       "    'color': '#1f77b4'},\n",
       "   {'id': 12,\n",
       "    'x': 417.26975503451484,\n",
       "    'y': 465.9382436037136,\n",
       "    'x_canvas': 417.2697550345148,\n",
       "    'y_canvas': 465.93824360371354,\n",
       "    'radius': 5,\n",
       "    'color': '#1f77b4'},\n",
       "   {'id': 13,\n",
       "    'x': 389.1492914482821,\n",
       "    'y': 421.681982557001,\n",
       "    'x_canvas': 389.1492914482821,\n",
       "    'y_canvas': 421.68198255700094,\n",
       "    'radius': 5,\n",
       "    'color': '#1f77b4'},\n",
       "   {'id': 14,\n",
       "    'x': 350.09652232015287,\n",
       "    'y': 382.9503695227649,\n",
       "    'x_canvas': 350.09652232015287,\n",
       "    'y_canvas': 382.9503695227649,\n",
       "    'radius': 5,\n",
       "    'color': '#ff7f0e'},\n",
       "   {'id': 15,\n",
       "    'x': 364.4755904959262,\n",
       "    'y': 345.11701110813124,\n",
       "    'x_canvas': 364.4755904959262,\n",
       "    'y_canvas': 345.11701110813124,\n",
       "    'radius': 5,\n",
       "    'color': '#ff7f0e'},\n",
       "   {'id': 16,\n",
       "    'x': 485.94284664541976,\n",
       "    'y': 440.26745162530915,\n",
       "    'x_canvas': 485.94284664541976,\n",
       "    'y_canvas': 440.26745162530915,\n",
       "    'radius': 5,\n",
       "    'color': '#1f77b4'},\n",
       "   {'id': 17,\n",
       "    'x': 382.8036258446388,\n",
       "    'y': 454.8669109263486,\n",
       "    'x_canvas': 382.8036258446388,\n",
       "    'y_canvas': 454.8669109263486,\n",
       "    'radius': 5,\n",
       "    'color': '#1f77b4'},\n",
       "   {'id': 18,\n",
       "    'x': 348.1380424978302,\n",
       "    'y': 352.6396809926841,\n",
       "    'x_canvas': 348.1380424978302,\n",
       "    'y_canvas': 352.6396809926841,\n",
       "    'radius': 5,\n",
       "    'color': '#ff7f0e'},\n",
       "   {'id': 19,\n",
       "    'x': 374.7972935963475,\n",
       "    'y': 416.6207250398903,\n",
       "    'x_canvas': 374.7972935963475,\n",
       "    'y_canvas': 416.6207250398903,\n",
       "    'radius': 5,\n",
       "    'color': '#1f77b4'},\n",
       "   {'id': 20,\n",
       "    'x': 338.4516530040666,\n",
       "    'y': 361.7107506289859,\n",
       "    'x_canvas': 338.4516530040666,\n",
       "    'y_canvas': 361.7107506289859,\n",
       "    'radius': 5,\n",
       "    'color': '#ff7f0e'},\n",
       "   {'id': 21,\n",
       "    'x': 396.6970421358427,\n",
       "    'y': 453.7047722703359,\n",
       "    'x_canvas': 396.6970421358427,\n",
       "    'y_canvas': 453.70477227033587,\n",
       "    'radius': 5,\n",
       "    'color': '#1f77b4'},\n",
       "   {'id': 22,\n",
       "    'x': 338.47051212676496,\n",
       "    'y': 374.5844964060068,\n",
       "    'x_canvas': 338.47051212676496,\n",
       "    'y_canvas': 374.5844964060068,\n",
       "    'radius': 5,\n",
       "    'color': '#ff7f0e'},\n",
       "   {'id': 23,\n",
       "    'x': 384.08781954037937,\n",
       "    'y': 325.5123639715531,\n",
       "    'x_canvas': 384.08781954037937,\n",
       "    'y_canvas': 325.5123639715531,\n",
       "    'radius': 5,\n",
       "    'color': '#ff7f0e'},\n",
       "   {'id': 24,\n",
       "    'x': 436.20308580595315,\n",
       "    'y': 331.9487563805208,\n",
       "    'x_canvas': 436.2030858059532,\n",
       "    'y_canvas': 331.9487563805208,\n",
       "    'radius': 5,\n",
       "    'color': '#ff7f0e'},\n",
       "   {'id': 25,\n",
       "    'x': 417.3157705583367,\n",
       "    'y': 319.3016043580085,\n",
       "    'x_canvas': 417.31577055833674,\n",
       "    'y_canvas': 319.3016043580085,\n",
       "    'radius': 5,\n",
       "    'color': '#ff7f0e'},\n",
       "   {'id': 26,\n",
       "    'x': 344.8444448007206,\n",
       "    'y': 336.07739288738355,\n",
       "    'x_canvas': 344.8444448007206,\n",
       "    'y_canvas': 336.07739288738355,\n",
       "    'radius': 5,\n",
       "    'color': '#ff7f0e'},\n",
       "   {'id': 27,\n",
       "    'x': 405.06610015549506,\n",
       "    'y': 346.75881299480176,\n",
       "    'x_canvas': 405.06610015549506,\n",
       "    'y_canvas': 346.75881299480176,\n",
       "    'radius': 5,\n",
       "    'color': '#ff7f0e'},\n",
       "   {'id': 28,\n",
       "    'x': 407.29094890188276,\n",
       "    'y': 371.2299152766832,\n",
       "    'x_canvas': 407.2909489018827,\n",
       "    'y_canvas': 371.2299152766832,\n",
       "    'radius': 5,\n",
       "    'color': '#ff7f0e'},\n",
       "   {'id': 29,\n",
       "    'x': 359.3407480850387,\n",
       "    'y': 326.1580830503344,\n",
       "    'x_canvas': 359.3407480850387,\n",
       "    'y_canvas': 326.1580830503344,\n",
       "    'radius': 5,\n",
       "    'color': '#ff7f0e'},\n",
       "   {'id': 30,\n",
       "    'x': 347.6233156308329,\n",
       "    'y': 405.4682094382201,\n",
       "    'x_canvas': 347.6233156308329,\n",
       "    'y_canvas': 405.4682094382201,\n",
       "    'radius': 5,\n",
       "    'color': '#ff7f0e'},\n",
       "   {'id': 31,\n",
       "    'x': 421.19200870608057,\n",
       "    'y': 360.3950914965201,\n",
       "    'x_canvas': 421.1920087060805,\n",
       "    'y_canvas': 360.3950914965201,\n",
       "    'radius': 5,\n",
       "    'color': '#ff7f0e'},\n",
       "   {'id': 32,\n",
       "    'x': 361.45595402787615,\n",
       "    'y': 367.5466804425306,\n",
       "    'x_canvas': 361.45595402787615,\n",
       "    'y_canvas': 367.5466804425306,\n",
       "    'radius': 5,\n",
       "    'color': '#ff7f0e'},\n",
       "   {'id': 33,\n",
       "    'x': 375.1514447540932,\n",
       "    'y': 364.4889482054669,\n",
       "    'x_canvas': 375.1514447540932,\n",
       "    'y_canvas': 364.4889482054669,\n",
       "    'radius': 5,\n",
       "    'color': '#ff7f0e'}]},\n",
       " {'zoom': 1,\n",
       "  'node_charge': -45,\n",
       "  'node_gravity': 0.1,\n",
       "  'link_distance': 15,\n",
       "  'link_distance_variation': 0,\n",
       "  'node_collision': True,\n",
       "  'wiggle_nodes': False,\n",
       "  'freeze_nodes': False,\n",
       "  'node_fill_color': '#79aaa0',\n",
       "  'node_stroke_color': '#555555',\n",
       "  'node_label_color': '#000000',\n",
       "  'display_node_labels': False,\n",
       "  'scale_node_size_by_strength': False,\n",
       "  'node_size': 5,\n",
       "  'node_stroke_width': 1,\n",
       "  'node_size_variation': 0.5,\n",
       "  'link_color': '#7c7c7c',\n",
       "  'link_width': 2,\n",
       "  'link_alpha': 0.5,\n",
       "  'link_width_variation': 0.5,\n",
       "  'display_singleton_nodes': True,\n",
       "  'min_link_weight_percentile': 0,\n",
       "  'max_link_weight_percentile': 1})"
      ]
     },
     "execution_count": 2,
     "metadata": {},
     "output_type": "execute_result"
    }
   ],
   "source": [
    "G = nx.karate_club_graph()\n",
    "\n",
    "\n",
    "color_dict = {'Mr. Hi': '#1f77b4', 'Officer': '#ff7f0e'}\n",
    "for n in G.nodes():\n",
    "    G.nodes[n]['color'] = color_dict[G.nodes[n]['club']]\n",
    "\n",
    "#This will open a webpage with the network, from where it can be downloaded\n",
    "nw.visualize(G)"
   ]
  },
  {
   "cell_type": "markdown",
   "metadata": {},
   "source": [
    "2.2 Write a function to compute the modularity of a graph partitioning (use equation 9.12 in the book). \n",
    "The function should take a networkX Graph and a partitioning as inputs and return the modularity."
   ]
  },
  {
   "cell_type": "code",
   "execution_count": 3,
   "metadata": {},
   "outputs": [],
   "source": [
    "def modularity(G, partition):\n",
    "    # initialize variables\n",
    "    A = nx.adjacency_matrix(G)\n",
    "    m = G.number_of_edges()\n",
    "    Q = 0\n",
    "    \n",
    "    # loop over all pairs of nodes\n",
    "    for i in range(A.shape[0]):\n",
    "        for j in range(A.shape[1]):\n",
    "            # get the community assignments of the two nodes\n",
    "            ci = partition[i]\n",
    "            cj = partition[j]\n",
    "            \n",
    "            # compute the modularity contribution of this pair of nodes\n",
    "            delta_Q = (A[i,j] - (G.degree(i) * G.degree(j)) / (2*m)) * (ci == cj)\n",
    "            \n",
    "            # add the contribution to the modularity\n",
    "            Q += delta_Q\n",
    "            \n",
    "    # normalize the modularity by dividing by the total number of edges\n",
    "    Q = Q / (2*m)\n",
    "    \n",
    "    return Q"
   ]
  },
  {
   "cell_type": "markdown",
   "metadata": {},
   "source": [
    "2.3\n",
    "\n",
    "Modularity is a measure of the strength of the division of a network into groups or communities. \n",
    "It is a way to quantify how well a given partition of nodes into communities captures the structure of the network.\n",
    "\n",
    "In a modular network, the nodes within a community tend to be more densely connected to each other than to nodes in other communities. \n",
    "Modularity measures the extent to which this is true for a given partition of the network. \n",
    "A high modularity value indicates that the partition is a good fit for the network, meaning that the nodes within each community are more densely connected to each other than to nodes in other communities."
   ]
  },
  {
   "cell_type": "markdown",
   "metadata": {},
   "source": [
    "2.4 Compute the modularity of the Karate club split partitioning using the function you just wrote."
   ]
  },
  {
   "cell_type": "code",
   "execution_count": 4,
   "metadata": {},
   "outputs": [
    {
     "name": "stdout",
     "output_type": "stream",
     "text": [
      "Modularity of karate club split partitioning: 2.1402859960552245\n"
     ]
    }
   ],
   "source": [
    "# get the club split partitioning\n",
    "partition = nx.get_node_attributes(G, 'club')\n",
    "\n",
    "# compute the modularity of the partitioning\n",
    "Q = modularity(G, partition)\n",
    "\n",
    "# print the modularity\n",
    "print('Modularity of karate club split partitioning:', Q)"
   ]
  },
  {
   "cell_type": "markdown",
   "metadata": {},
   "source": [
    "2.5 We will now perform a small randomization experiment to assess if the modularity you just computed is statitically different from $0$. \n",
    "To do so, we will implement the double edge swap algorithm. "
   ]
  },
  {
   "cell_type": "code",
   "execution_count": 5,
   "metadata": {},
   "outputs": [],
   "source": [
    "def double_edge_swap(G, N):\n",
    "    G_random = copy.deepcopy(G)\n",
    "    n = len(G_random.nodes())\n",
    "    m = len(G_random.edges())\n",
    "    edges = list(G_random.edges())\n",
    "    nodes = list(G_random.nodes())\n",
    "    n_swap = 0\n",
    "    while n_swap < N:\n",
    "        a, b, c, d = random.sample(nodes, 4)\n",
    "        if len(set([a, b, c, d])) == 4:\n",
    "            if G_random.has_edge(a, b) and G_random.has_edge(c, d):\n",
    "                if not (G_random.has_edge(a, d) or G_random.has_edge(c, b)):\n",
    "                    G_random.remove_edge(a, b)\n",
    "                    G_random.remove_edge(c, d)\n",
    "                    G_random.add_edge(a, d)\n",
    "                    G_random.add_edge(c, b)\n",
    "                    n_swap += 1\n",
    "    return G_random"
   ]
  },
  {
   "cell_type": "markdown",
   "metadata": {},
   "source": [
    "2.6 Double check that your algorithm works well, by showing that the degree of nodes in the original network and the new 'randomized' version of the network are the same."
   ]
  },
  {
   "cell_type": "code",
   "execution_count": 6,
   "metadata": {},
   "outputs": [],
   "source": [
    "# generate a new randomized graph\n",
    "G_rand = double_edge_swap(G, 2*G.number_of_edges())\n",
    "\n",
    "# check that the degree of each node is the same in both graphs\n",
    "for node in G.nodes():\n",
    "    assert G.degree(node) == G_rand.degree(node)\n"
   ]
  },
  {
   "cell_type": "markdown",
   "metadata": {},
   "source": [
    "2.7 Create 1000 randomized version of the Karate Club network using the double edge swap algorithm you wrote in step 5. \n",
    "For each of them, compute the modularity of the \"club\" split and store it in a list."
   ]
  },
  {
   "cell_type": "code",
   "execution_count": 7,
   "metadata": {},
   "outputs": [],
   "source": [
    "# generate 1000 randomized versions of the karate club graph\n",
    "N = 1000\n",
    "G_rand_list = [double_edge_swap(G, 2*G.number_of_edges()) for i in range(N)]\n",
    "\n",
    "#define club_dict\n",
    "club_dict = {node: data['club'] for node, data in G.nodes(data=True)}\n",
    "\n",
    "# compute the modularity of the club split for each of the 1000 randomized versions\n",
    "modularity_rand = [modularity(G_rand, club_dict) for G_rand in G_rand_list]"
   ]
  },
  {
   "cell_type": "markdown",
   "metadata": {},
   "source": [
    "2.8 Compute the average and standard deviation of the modularity for the random network."
   ]
  },
  {
   "cell_type": "code",
   "execution_count": 8,
   "metadata": {},
   "outputs": [
    {
     "name": "stdout",
     "output_type": "stream",
     "text": [
      "Average modularity of randomized versions: 0.05478599605522729\n",
      "Standard deviation of modularity of randomized versions: 0.0737189955332587\n"
     ]
    }
   ],
   "source": [
    "modularity_mean = sum(modularity_rand) / N\n",
    "modularity_std = ((sum((modularity - modularity_mean)**2 for modularity in modularity_rand)) / N)**0.5\n",
    "\n",
    "print(\"Average modularity of randomized versions:\", modularity_mean)\n",
    "print(\"Standard deviation of modularity of randomized versions:\", modularity_std)"
   ]
  },
  {
   "cell_type": "markdown",
   "metadata": {},
   "source": [
    "2.9 Plot the distribution of the \"random\" modularity. Plot the actual modularity of the club split as a vertical line (use axvline)."
   ]
  },
  {
   "cell_type": "code",
   "execution_count": 9,
   "metadata": {},
   "outputs": [
    {
     "data": {
      "image/png": "[encoded data removed]",
      "text/plain": [
       "<Figure size 640x480 with 1 Axes>"
      ]
     },
     "metadata": {},
     "output_type": "display_data"
    }
   ],
   "source": [
    "#plot the distribution of the modularity for the randomized versions\n",
    "plt.hist(modularity_rand, bins=20, alpha=0.5, density=True)\n",
    "plt.axvline(Q, color='r', linestyle='--', label='Actual modularity')\n",
    "plt.xlabel('Modularity')\n",
    "plt.ylabel('Density')\n",
    "plt.legend()\n",
    "plt.show()"
   ]
  },
  {
   "cell_type": "markdown",
   "metadata": {},
   "source": [
    "2.10 Comment on the figure. Is the club split a good partitioning? Why do you think I asked you to perform a randomization experiment? \n",
    "#What is the reason why we preserved the nodes degree?\n",
    "\n",
    "The distribution of modularity values for the randomized versions is centered around 0, with a few values slightly positive and negative. \n",
    "The actual modularity value of the club split partitioning is quite high compared to the randomized versions, which suggests that the club split is a good partitioning of the network.\n",
    "\n",
    "We preserved the node degrees in the randomized versions of the network because the degree distribution is an important feature of many real-world networks. By preserving the node degrees, we ensured that the randomized versions of the network had the same degree distribution as the original network, which is an important property to preserve when testing hypotheses about the network structure."
   ]
  },
  {
   "cell_type": "markdown",
   "metadata": {},
   "source": [
    "2.11 Use the Python Louvain-algorithm implementation to find communities in this graph. \n",
    "Report the value of modularity found by the algorithm. Is it higher or lower than what you found above for the club split? \n",
    "What does this comparison reveal?"
   ]
  },
  {
   "cell_type": "code",
   "execution_count": 10,
   "metadata": {},
   "outputs": [
    {
     "name": "stdout",
     "output_type": "stream",
     "text": [
      "Modularity found by Louvain algorithm: 0.4438541256723075\n"
     ]
    }
   ],
   "source": [
    "# Find the communities using the Louvain algorithm\n",
    "partition = community.best_partition(G)\n",
    "\n",
    "# Compute the modularity\n",
    "modularity = community.modularity(partition, G)\n",
    "\n",
    "print(\"Modularity found by Louvain algorithm:\", modularity)"
   ]
  },
  {
   "cell_type": "markdown",
   "metadata": {},
   "source": [
    "The modularity value found by the Louvain algorithm is lower than what we found above for the club split partitioning.\n",
    "This comparison reveals that the Louvain algorithm was not able to find a partitioning of the network that was as good \n",
    "as the club split partitioning in terms of modularity."
   ]
  },
  {
   "cell_type": "markdown",
   "metadata": {},
   "source": [
    "2.12 Compare the communities found by the Louvain algorithm with the club split partitioning by creating a matrix D with dimension (2 times A),  where A is the number of communities found by Louvain. \n",
    "We set entry D(i,j) to be the number of nodes that community i has in common with group split j. \n",
    "The matrix D is what we call a confusion matrix. Use the confusion matrix to explain how well the communities you've detected correspond to the club split partitioning."
   ]
  },
  {
   "cell_type": "code",
   "execution_count": 11,
   "metadata": {},
   "outputs": [
    {
     "name": "stdout",
     "output_type": "stream",
     "text": [
      "[[ 0. 11.]\n",
      " [13.  1.]\n",
      " [ 0.  5.]\n",
      " [ 4.  0.]\n",
      " [ 0.  0.]\n",
      " [ 0.  0.]\n",
      " [ 0.  0.]\n",
      " [ 0.  0.]]\n"
     ]
    }
   ],
   "source": [
    "#Not done yet\n",
    "# Get the number of communities found by Louvain\n",
    "A = len(set(partition.values()))\n",
    "\n",
    "# Create a matrix D to hold the counts of common nodes\n",
    "D = np.zeros((2 * A, 2))\n",
    "\n",
    "# Fill in the counts of common nodes\n",
    "for i, com1 in enumerate(set(partition.values())):\n",
    "    for j, com2 in enumerate(set(club_dict.values())):\n",
    "        nodes1 = [n for n in partition.keys() if partition[n] == com1]\n",
    "        nodes2 = [n for n in club_dict.keys() if club_dict[n] == com2]\n",
    "        D[i,j] = len(set(nodes1) & set(nodes2))\n",
    "\n",
    "print(D)        "
   ]
  },
  {
   "cell_type": "markdown",
   "metadata": {},
   "source": [
    "The confusion matrix shows that the communities found by the Louvain algorithm do not align perfectly with the ground truth club split partitioning. Some communities correspond well, while others do not. This is reflected in the lower modularity value found by the Louvain algorithm compared to the ground truth club split partitioning. However, the Louvain algorithm still identifies meaningful communities within the network, which can provide valuable insights into the structure and function of the network."
   ]
  }
 ],
 "metadata": {
  "kernelspec": {
   "display_name": "Python 3",
   "language": "python",
   "name": "python3"
  },
  "language_info": {
   "codemirror_mode": {
    "name": "ipython",
    "version": 3
   },
   "file_extension": ".py",
   "mimetype": "text/x-python",
   "name": "python",
   "nbconvert_exporter": "python",
   "pygments_lexer": "ipython3",
   "version": "3.10.10"
  },
  "vscode": {
   "interpreter": {
    "hash": "4bbaa97eea0fdfc36f20610db78678cd329d6c0744222a8b7082edadeb32e37e"
   }
  }
 },
 "nbformat": 4,
 "nbformat_minor": 2
}
