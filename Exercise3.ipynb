{
 "cells": [
  {
   "cell_type": "code",
   "execution_count": 1,
   "metadata": {},
   "outputs": [],
   "source": [
    "import json\n",
    "import networkx as nx\n",
    "\n",
    "f = open('data/graph.json')\n",
    "data = json.load(f)\n"
   ]
  },
  {
   "cell_type": "code",
   "execution_count": 2,
   "metadata": {},
   "outputs": [
    {
     "name": "stdout",
     "output_type": "stream",
     "text": [
      "The number of nodes before the GCC has been found: 2162\n",
      "The number of nodes after the GCC has been found: 1271\n"
     ]
    }
   ],
   "source": [
    "G = nx.node_link_graph(data) \n",
    "print(f\"The number of nodes before the GCC has been found: {len(list(G.nodes))}\")\n",
    "largest_cc = max(nx.connected_components(G), key=len)\n",
    "# update graph to only include the larget connected component. \n",
    "G = G.subgraph(largest_cc)\n",
    "print(f\"The number of nodes after the GCC has been found: {len(list(G.nodes))}\")"
   ]
  }
 ],
 "metadata": {
  "kernelspec": {
   "display_name": "base",
   "language": "python",
   "name": "python3"
  },
  "language_info": {
   "codemirror_mode": {
    "name": "ipython",
    "version": 3
   },
   "file_extension": ".py",
   "mimetype": "text/x-python",
   "name": "python",
   "nbconvert_exporter": "python",
   "pygments_lexer": "ipython3",
   "version": "3.10.8"
  },
  "orig_nbformat": 4
 },
 "nbformat": 4,
 "nbformat_minor": 2
}
