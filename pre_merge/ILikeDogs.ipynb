{
 "cells": [
  {
   "attachments": {},
   "cell_type": "markdown",
   "metadata": {},
   "source": [
    "# Assignment 2 \n",
    "\n",
    "Github repo: https://github.com/c-wejendorp/ComSocSciAssignment2Group1\n",
    "\n",
    "Contribution: \n",
    "\n",
    "Exercise 1,3,4,5: Christoffer 50% Jason 50%. \n",
    "\n",
    "Exercise: 2 William 100%\n"
   ]
  },
  {
   "cell_type": "code",
   "execution_count": 1,
   "metadata": {},
   "outputs": [],
   "source": [
    "import pandas as pd\n",
    "import networkx as nx\n",
    "import numpy as np\n",
    "from networkx.readwrite import json_graph\n",
    "import json\n",
    "import scipy \n",
    "import netwulf as nw\n",
    "from netwulf import visualize\n",
    "import random\n",
    "from scipy.stats import sem, t\n",
    "import matplotlib.pyplot as plt"
   ]
  },
  {
   "attachments": {},
   "cell_type": "markdown",
   "metadata": {},
   "source": [
    "# Exercise 1) Mixing Patterns and Assortativity.\n",
    "Let's dig in and try to understand more about the network of Computational Social Scientists using more advanced features. If your network has more than one component, just work on the giant connected component (GCC) in the exercises below. For the exercises below, you shall use the network you built in Week 4.\n",
    "\n",
    "> The following cell loads the data and displays the total number of nodes in the graph after the giant connected component (GCC) has been extracted. Note we use our own author/paper data set from assignment 1"
   ]
  },
  {
   "cell_type": "code",
   "execution_count": 2,
   "metadata": {},
   "outputs": [
    {
     "name": "stdout",
     "output_type": "stream",
     "text": [
      "The number of nodes before the GCC has been found: 2162\n",
      "The number of nodes after the GCC has been found: 1271\n"
     ]
    }
   ],
   "source": [
    "f = open('data/graph.json')\n",
    "data = json.load(f)\n",
    "G = nx.node_link_graph(data) \n",
    "print(f\"The number of nodes before the GCC has been found: {len(list(G.nodes))}\")\n",
    "largest_cc = max(nx.connected_components(G), key=len)\n",
    "# update graph to only include the larget connected component. \n",
    "G = G.subgraph(largest_cc)\n",
    "print(f\"The number of nodes after the GCC has been found: {len(list(G.nodes))}\")\n"
   ]
  },
  {
   "attachments": {},
   "cell_type": "markdown",
   "metadata": {},
   "source": [
    "- For each node, compute the fraction of edges that connect to a node that works in the same top field. Find the average value across all nodes:\n",
    "\n",
    "> In the cell below a function is defined that does exactly that.\n",
    "When executed on our graph we get the value printed below:"
   ]
  },
  {
   "cell_type": "code",
   "execution_count": 12,
   "metadata": {},
   "outputs": [
    {
     "name": "stdout",
     "output_type": "stream",
     "text": [
      "Average fraction of shared field edges:  0.38\n"
     ]
    }
   ],
   "source": [
    "# loop over all nodes and for each node save the number of edges leading to a node with the same top field.\n",
    "def fracOfNbrsSameTopic(graph):\n",
    "    for node in list(graph.nodes):\n",
    "        nodeTopField=graph.nodes[node]['field']\n",
    "        counter = 0\n",
    "        for nbr in graph.adj[node]:\n",
    "            nbrTopField=graph.nodes[nbr]['field']\n",
    "            if nodeTopField == nbrTopField:\n",
    "                counter += 1        \n",
    "        fracOfNbrsSameTopic=counter/len(graph.adj[node])    \n",
    "        graph.nodes[node]['fracOfNbrsSameTopic'] = fracOfNbrsSameTopic\n",
    "        \n",
    "    _,values = zip(*list(graph.nodes.data('fracOfNbrsSameTopic')))\n",
    "    return sum(values) / len(list(graph.nodes))\n",
    "    \n",
    "\n",
    "print(f\"Average fraction of shared field edges:  {np.round(fracOfNbrsSameTopic(G), 2)}\")\n"
   ]
  },
  {
   "attachments": {},
   "cell_type": "markdown",
   "metadata": {},
   "source": [
    "- Create a new graph, with the same nodes and edges, but where the association between nodes and field is shuffled. Compute the measure above for this randomized graph.\n",
    "\n",
    "\n",
    "> The cell below defines a function that takes a graph as input and extracts all the nodes' \"field\" attributes and reassigns them randomly. \n",
    "If we do this we get the value printed below:     \n",
    "\n"
   ]
  },
  {
   "cell_type": "code",
   "execution_count": 13,
   "metadata": {},
   "outputs": [
    {
     "name": "stdout",
     "output_type": "stream",
     "text": [
      "Average fraction of shared field edges of randomized graph:  0.26\n"
     ]
    }
   ],
   "source": [
    "def shuffleNodeFields(graph):\n",
    "    shuffledGraph=graph.copy()    \n",
    "    key, values = zip(*list(shuffledGraph.nodes.data('field')))    \n",
    "    values = list(values)    \n",
    "    random.shuffle(values)    \n",
    "    newDict = dict(zip(key,values))\n",
    "    nx.set_node_attributes(shuffledGraph, newDict, name=\"field\")\n",
    "\n",
    "    return shuffledGraph\n",
    "\n",
    "print(f\"Average fraction of shared field edges of randomized graph:  {np.round(fracOfNbrsSameTopic(shuffleNodeFields(G)), 2)}\")\n"
   ]
  },
  {
   "attachments": {},
   "cell_type": "markdown",
   "metadata": {},
   "source": [
    "- Repeat the point above 100 times (at least). Plot the distribution of the values obtained and compare it with the value you have found for the real graph. Is the chance to connect to a member of the same field significantly higher than it would be by chance?  \n",
    "\n",
    "> To solve this question we used bootstrapping and sampled 100 times. We then calculated the empirical confidence interval and concluded;\n",
    "Based on a significance level of 0.05 the chance of connecting to a member of the same field is significantly higher than it would be by chance. \n",
    "\n",
    "> The confidence interval for \"the fraction of edges that connect to a node that works in the same top field\", if the assocations in the graphs are random, are shown below. We have also plotted the distribution for the sampled values with a proper bin-size\n"
   ]
  },
  {
   "cell_type": "code",
   "execution_count": 5,
   "metadata": {},
   "outputs": [
    {
     "data": {
      "image/png": "[encoded data removed]",
      "text/plain": [
       "<Figure size 640x480 with 1 Axes>"
      ]
     },
     "metadata": {},
     "output_type": "display_data"
    }
   ],
   "source": [
    "n = 100\n",
    "avgValues = [fracOfNbrsSameTopic(shuffleNodeFields(G)) for i in range(n)]\n",
    "#compute the emperical confidence interval\n",
    "alpha = 0.95\n",
    "p = ((1.0-alpha)/2.0) * 100\n",
    "lower = max(0.0, np.percentile(avgValues, p))\n",
    "p = (alpha+((1.0-alpha)/2.0)) * 100\n",
    "upper = min(1.0, np.percentile(avgValues, p))\n",
    "num_bins = 30\n",
    "n, bins, patches = plt.hist(avgValues, num_bins, facecolor='blue', alpha=0.5)\n",
    "#plot the confidence interval\n",
    "plt.axvline(x=lower, color='r', linestyle='--',label='The %.2f confidence interval spans from  %.2f and %.2f' % (alpha*100, lower, upper))\n",
    "plt.axvline(x=upper, color='r', linestyle='--')\n",
    "plt.axvline(x=fracOfNbrsSameTopic(G), color='g', linestyle='--',label=f\"Non-random graph value: {fracOfNbrsSameTopic(G):.2f}\")\n",
    "plt.legend()\n",
    "plt.show()"
   ]
  },
  {
   "attachments": {},
   "cell_type": "markdown",
   "metadata": {},
   "source": [
    "- Compute the assortativity coefficient with respect to author's field. How do you interpret the value you obtain? Important: here I do not want you to use the NetworkX implementation, but rather to implement your own version of the measure.\n",
    "\n",
    "\n",
    "> We found r = 0.14. Our interpretation of this is the following; As the value of r is greater than 0, the graph is somewhat assortative with respect to the attribute \"field\". This means ths authors' whose top fields are the same tend to work together on papers.   \n",
    "\n"
   ]
  },
  {
   "cell_type": "code",
   "execution_count": 10,
   "metadata": {},
   "outputs": [
    {
     "name": "stdout",
     "output_type": "stream",
     "text": [
      "The author fields in our graph are: ['Medicine', 'Engineering', 'Computer Science', 'Physics', 'Biology', 'Art', 'Agricultural And Food Sciences', 'Chemistry', 'Political Science', 'History', 'Mathematics', 'Psychology', 'Geology', 'Linguistics', 'Education', 'Business', 'Economics', 'Environmental Science', 'Sociology', 'Materials Science', 'Philosophy', 'Law']\n"
     ]
    },
    {
     "ename": "NameError",
     "evalue": "name 'row_sums' is not defined",
     "output_type": "error",
     "traceback": [
      "\u001b[1;31m---------------------------------------------------------------------------\u001b[0m",
      "\u001b[1;31mNameError\u001b[0m                                 Traceback (most recent call last)",
      "Cell \u001b[1;32mIn[10], line 21\u001b[0m\n\u001b[0;32m     18\u001b[0m total_edges \u001b[39m=\u001b[39m G\u001b[39m.\u001b[39mnumber_of_edges()\n\u001b[0;32m     19\u001b[0m mixing_matrix \u001b[39m=\u001b[39m mixing_matrix \u001b[39m/\u001b[39m total_edges\n\u001b[1;32m---> 21\u001b[0m numerator \u001b[39m=\u001b[39m np\u001b[39m.\u001b[39msum(np\u001b[39m.\u001b[39mdiag(mixing_matrix)) \u001b[39m-\u001b[39m np\u001b[39m.\u001b[39msum(row_sums\u001b[39m*\u001b[39mcol_sums)\n\u001b[0;32m     22\u001b[0m denominator\u001b[39m=\u001b[39m \u001b[39m1\u001b[39m \u001b[39m-\u001b[39m np\u001b[39m.\u001b[39msum(row_sums\u001b[39m*\u001b[39mcol_sums)\n\u001b[0;32m     24\u001b[0m assortativity \u001b[39m=\u001b[39mnumerator\u001b[39m/\u001b[39mdenominator\n",
      "\u001b[1;31mNameError\u001b[0m: name 'row_sums' is not defined"
     ]
    }
   ],
   "source": [
    "#we have the following field attributes in our graph\n",
    "nodefield = nx.get_node_attributes(G, \"field\")\n",
    "fields=list(set([nodefield[node] for node in G.nodes]))\n",
    "print(f\"The author fields in our graph are: {fields}\")\n",
    "\n",
    "# Initialize the mixing matrix\n",
    "n = len(fields)\n",
    "mixing_matrix = np.zeros((n, n))\n",
    "\n",
    "# Compute the fraction of edges between nodes with different attributes\n",
    "for edge in G.edges():\n",
    "    i = fields.index(nodefield[edge[0]])\n",
    "    j = fields.index(nodefield[edge[1]])\n",
    "    mixing_matrix[i][j] += 1\n",
    "\n",
    "total_edges = G.number_of_edges()\n",
    "mixing_matrix = mixing_matrix / total_edges\n",
    "\n",
    "numerator = np.sum(np.diag(mixing_matrix)) - np.sum(row_sums*col_sums)\n",
    "denominator= 1 - np.sum(row_sums*col_sums)\n",
    "\n",
    "assortativity =numerator/denominator\n",
    "# print our calculation of the assortativity coefficient is\n",
    "print(f\"The assortativity coefficient calculated is: {assortativity}\") \n",
    "\n"
   ]
  },
  {
   "attachments": {},
   "cell_type": "markdown",
   "metadata": {},
   "source": [
    "- Is the graph assortative with respect to the degree? (e.g. do high-degree scientists tend to link to other high-degree scientists, and low-degree scientists to other low-degree scientists?). Provide an interpretation of your answer.\n",
    "\n",
    "> Here we have used the NetworkX implementation and found the assortativity coefficient with respect to degree to be -0.079. As this value is smaller than 0, it indicates that there could be disassortative mixing. This means that nodes with different degree values tend to be connected to each other. One example of how this would occur is if teachers / researchers at universities write papers with their students, then the teacher node has a high degree and the stundent node has a low degree. "
   ]
  },
  {
   "cell_type": "code",
   "execution_count": 11,
   "metadata": {},
   "outputs": [
    {
     "name": "stdout",
     "output_type": "stream",
     "text": [
      "The assortativity coefficient with respect to degree is: -0.08\n"
     ]
    }
   ],
   "source": [
    "q=nx.degree_assortativity_coefficient(G)\n",
    "print(f\"The assortativity coefficient with respect to degree is: {np.round(q, 2)}\")"
   ]
  }
 ],
 "metadata": {
  "kernelspec": {
   "display_name": "comSocSCi",
   "language": "python",
   "name": "python3"
  },
  "language_info": {
   "codemirror_mode": {
    "name": "ipython",
    "version": 3
   },
   "file_extension": ".py",
   "mimetype": "text/x-python",
   "name": "python",
   "nbconvert_exporter": "python",
   "pygments_lexer": "ipython3",
   "version": "3.10.9"
  },
  "orig_nbformat": 4
 },
 "nbformat": 4,
 "nbformat_minor": 2
}
